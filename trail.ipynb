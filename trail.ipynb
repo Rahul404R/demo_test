{
 "cells": [
  {
   "cell_type": "code",
   "execution_count": 2,
   "metadata": {},
   "outputs": [
    {
     "name": "stdout",
     "output_type": "stream",
     "text": [
      "Hi Rahul\n",
      "Welcome to Git\n"
     ]
    }
   ],
   "source": [
    "print('Hi Rahul')\n",
    "print('Welcome to Git')"
   ]
  }
 ],
 "metadata": {
  "kernelspec": {
   "display_name": "Python 3.8.13 ('env1')",
   "language": "python",
   "name": "python3"
  },
  "language_info": {
   "codemirror_mode": {
    "name": "ipython",
    "version": 3
   },
   "file_extension": ".py",
   "mimetype": "text/x-python",
   "name": "python",
   "nbconvert_exporter": "python",
   "pygments_lexer": "ipython3",
   "version": "3.8.13"
  },
  "orig_nbformat": 4,
  "vscode": {
   "interpreter": {
    "hash": "bd5de4e42f1bb4d61bd81c49e2d5b8e225ea10326657d54fe9e4a14c57b9ebaa"
   }
  }
 },
 "nbformat": 4,
 "nbformat_minor": 2
}
